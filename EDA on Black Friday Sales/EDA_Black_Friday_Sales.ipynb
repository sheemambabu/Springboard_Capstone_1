{
 "cells": [
  {
   "cell_type": "markdown",
   "metadata": {},
   "source": [
    "# Exploratory Data Analysis on Black Friday Dataset"
   ]
  },
  {
   "cell_type": "markdown",
   "metadata": {},
   "source": [
    "### Picking up a Dataset\n",
    "\n",
    "Kaggle is a very good place to find numerous datasets. I chose the Black Friday Dataset. \n",
    "URL: https://www.kaggle.com/mehdidag/black-friday"
   ]
  },
  {
   "cell_type": "code",
   "execution_count": 1,
   "metadata": {},
   "outputs": [],
   "source": [
    "#Importing the necessary libaries. \n",
    "\n",
    "import pandas as pd\n",
    "import numpy as np\n",
    "import matplotlib.pyplot as plt\n",
    "import seaborn as sns\n",
    "\n",
    "%matplotlib inline"
   ]
  },
  {
   "cell_type": "code",
   "execution_count": 2,
   "metadata": {},
   "outputs": [],
   "source": [
    "#Acquiring the pickled data and also getting some isights of the dataset.\n",
    "\n",
    "import pickle\n",
    "pickle_in = open('dw_bf.pickle','rb')\n",
    "df = pickle.load(pickle_in)\n",
    "pickle_in.close()\n"
   ]
  },
  {
   "cell_type": "code",
   "execution_count": 3,
   "metadata": {
    "scrolled": true
   },
   "outputs": [
    {
     "data": {
      "text/html": [
       "<div>\n",
       "<style scoped>\n",
       "    .dataframe tbody tr th:only-of-type {\n",
       "        vertical-align: middle;\n",
       "    }\n",
       "\n",
       "    .dataframe tbody tr th {\n",
       "        vertical-align: top;\n",
       "    }\n",
       "\n",
       "    .dataframe thead th {\n",
       "        text-align: right;\n",
       "    }\n",
       "</style>\n",
       "<table border=\"1\" class=\"dataframe\">\n",
       "  <thead>\n",
       "    <tr style=\"text-align: right;\">\n",
       "      <th></th>\n",
       "      <th>User_ID</th>\n",
       "      <th>Occupation</th>\n",
       "      <th>Marital_Status</th>\n",
       "      <th>Product_Category_1</th>\n",
       "      <th>Product_Category_2</th>\n",
       "      <th>Product_Category_3</th>\n",
       "      <th>Purchase</th>\n",
       "    </tr>\n",
       "  </thead>\n",
       "  <tbody>\n",
       "    <tr>\n",
       "      <th>count</th>\n",
       "      <td>5.375770e+05</td>\n",
       "      <td>537577.00000</td>\n",
       "      <td>537577.000000</td>\n",
       "      <td>537577.000000</td>\n",
       "      <td>537577.000000</td>\n",
       "      <td>537577.000000</td>\n",
       "      <td>537577.000000</td>\n",
       "    </tr>\n",
       "    <tr>\n",
       "      <th>mean</th>\n",
       "      <td>1.002992e+06</td>\n",
       "      <td>8.08271</td>\n",
       "      <td>0.408797</td>\n",
       "      <td>5.295546</td>\n",
       "      <td>6.784907</td>\n",
       "      <td>3.871773</td>\n",
       "      <td>9333.859853</td>\n",
       "    </tr>\n",
       "    <tr>\n",
       "      <th>std</th>\n",
       "      <td>1.714393e+03</td>\n",
       "      <td>6.52412</td>\n",
       "      <td>0.491612</td>\n",
       "      <td>3.750701</td>\n",
       "      <td>6.211618</td>\n",
       "      <td>6.265963</td>\n",
       "      <td>4981.022133</td>\n",
       "    </tr>\n",
       "    <tr>\n",
       "      <th>min</th>\n",
       "      <td>1.000001e+06</td>\n",
       "      <td>0.00000</td>\n",
       "      <td>0.000000</td>\n",
       "      <td>1.000000</td>\n",
       "      <td>0.000000</td>\n",
       "      <td>0.000000</td>\n",
       "      <td>185.000000</td>\n",
       "    </tr>\n",
       "    <tr>\n",
       "      <th>25%</th>\n",
       "      <td>1.001495e+06</td>\n",
       "      <td>2.00000</td>\n",
       "      <td>0.000000</td>\n",
       "      <td>1.000000</td>\n",
       "      <td>0.000000</td>\n",
       "      <td>0.000000</td>\n",
       "      <td>5866.000000</td>\n",
       "    </tr>\n",
       "    <tr>\n",
       "      <th>50%</th>\n",
       "      <td>1.003031e+06</td>\n",
       "      <td>7.00000</td>\n",
       "      <td>0.000000</td>\n",
       "      <td>5.000000</td>\n",
       "      <td>5.000000</td>\n",
       "      <td>0.000000</td>\n",
       "      <td>8062.000000</td>\n",
       "    </tr>\n",
       "    <tr>\n",
       "      <th>75%</th>\n",
       "      <td>1.004417e+06</td>\n",
       "      <td>14.00000</td>\n",
       "      <td>1.000000</td>\n",
       "      <td>8.000000</td>\n",
       "      <td>14.000000</td>\n",
       "      <td>8.000000</td>\n",
       "      <td>12073.000000</td>\n",
       "    </tr>\n",
       "    <tr>\n",
       "      <th>max</th>\n",
       "      <td>1.006040e+06</td>\n",
       "      <td>20.00000</td>\n",
       "      <td>1.000000</td>\n",
       "      <td>18.000000</td>\n",
       "      <td>18.000000</td>\n",
       "      <td>18.000000</td>\n",
       "      <td>23961.000000</td>\n",
       "    </tr>\n",
       "  </tbody>\n",
       "</table>\n",
       "</div>"
      ],
      "text/plain": [
       "            User_ID    Occupation  Marital_Status  Product_Category_1  \\\n",
       "count  5.375770e+05  537577.00000   537577.000000       537577.000000   \n",
       "mean   1.002992e+06       8.08271        0.408797            5.295546   \n",
       "std    1.714393e+03       6.52412        0.491612            3.750701   \n",
       "min    1.000001e+06       0.00000        0.000000            1.000000   \n",
       "25%    1.001495e+06       2.00000        0.000000            1.000000   \n",
       "50%    1.003031e+06       7.00000        0.000000            5.000000   \n",
       "75%    1.004417e+06      14.00000        1.000000            8.000000   \n",
       "max    1.006040e+06      20.00000        1.000000           18.000000   \n",
       "\n",
       "       Product_Category_2  Product_Category_3       Purchase  \n",
       "count       537577.000000       537577.000000  537577.000000  \n",
       "mean             6.784907            3.871773    9333.859853  \n",
       "std              6.211618            6.265963    4981.022133  \n",
       "min              0.000000            0.000000     185.000000  \n",
       "25%              0.000000            0.000000    5866.000000  \n",
       "50%              5.000000            0.000000    8062.000000  \n",
       "75%             14.000000            8.000000   12073.000000  \n",
       "max             18.000000           18.000000   23961.000000  "
      ]
     },
     "execution_count": 3,
     "metadata": {},
     "output_type": "execute_result"
    }
   ],
   "source": [
    "df.describe()"
   ]
  },
  {
   "cell_type": "code",
   "execution_count": 4,
   "metadata": {
    "scrolled": true
   },
   "outputs": [
    {
     "data": {
      "text/plain": [
       "User_ID                        5891\n",
       "Product_ID                     3623\n",
       "Gender                            2\n",
       "Age                               7\n",
       "Occupation                       21\n",
       "City_Category                     3\n",
       "Stay_In_Current_City_Years        5\n",
       "Marital_Status                    2\n",
       "Product_Category_1               18\n",
       "Product_Category_2               18\n",
       "Product_Category_3               16\n",
       "Purchase                      17959\n",
       "dtype: int64"
      ]
     },
     "execution_count": 4,
     "metadata": {},
     "output_type": "execute_result"
    }
   ],
   "source": [
    "#To find the count of distinct values in the dataset. \n",
    "#df.apply(pd.Series.nunique)\n",
    "df.nunique()"
   ]
  },
  {
   "cell_type": "markdown",
   "metadata": {},
   "source": [
    "#### We can see from the above data that all the columns except 'Purchase' column are categorical values and the 'Purchase' column would be considered as non-categorical. "
   ]
  },
  {
   "cell_type": "code",
   "execution_count": 5,
   "metadata": {},
   "outputs": [],
   "source": [
    "# Dropping the unnecessary columns.\n",
    "df.drop(columns = [\"User_ID\",\"Product_ID\"],inplace=True)"
   ]
  },
  {
   "cell_type": "markdown",
   "metadata": {
    "collapsed": true
   },
   "source": [
    "#### Looking at the data columns, we could begin to think what are the questions that could be answered."
   ]
  },
  {
   "cell_type": "markdown",
   "metadata": {},
   "source": [
    "### Analyzing data for research - \n",
    "#### Q) Who is more likely to spend more in a black Friday sale?\n",
    "    1) Men or Women.\n",
    "    2) Married or Un-Married\n",
    "    3) Old Residents or new residents/visitors\n",
    "#### Q) Which type of products are more likely to be sold in a sale like black Friday?\n",
    "#### Q) Which type of products are common among men and which among women?\n",
    "#### Prediction/classification -\n",
    "    1) Predict Age of a customer based on the rest of available data.\n",
    "    2) Predict gender of a customer based on rest of data.\n",
    "    3) Predict amount of purchase based on rest of data.\n",
    "#### Recommendation -\n",
    "    1) Suggest products based on age.\n",
    "    2) Suggest products based on location customers belong to.\n",
    "    3) Suggest products based on gender.\n",
    "    \n",
    "#### The answers to the above questions can be found using some plots."
   ]
  },
  {
   "cell_type": "code",
   "execution_count": 6,
   "metadata": {},
   "outputs": [
    {
     "data": {
      "text/plain": [
       "Text(0.5, 1.0, 'Transactions made by gender')"
      ]
     },
     "execution_count": 6,
     "metadata": {},
     "output_type": "execute_result"
    },
    {
     "data": {
      "image/png": "[encoded data removed]",
      "text/plain": [
       "<Figure size 432x288 with 1 Axes>"
      ]
     },
     "metadata": {
      "needs_background": "light"
     },
     "output_type": "display_data"
    }
   ],
   "source": [
    "# Plotting a countplot of 'Gender' column\n",
    "sns.countplot(df['Gender'])\n",
    "plt.xlabel('Gender')\n",
    "plt.ylabel('Purchases')\n",
    "plt.title(\"Transactions made by gender\")"
   ]
  },
  {
   "cell_type": "markdown",
   "metadata": {},
   "source": [
    "#### Looking at above count plot, it looks like very a smaller number of females attended the Black Friday sale. But it could also mean a few number of females paid for the products and may be their spouse paid for them."
   ]
  },
  {
   "cell_type": "code",
   "execution_count": 7,
   "metadata": {},
   "outputs": [
    {
     "data": {
      "text/plain": [
       "Text(0.5, 1.0, 'Purchases made by age')"
      ]
     },
     "execution_count": 7,
     "metadata": {},
     "output_type": "execute_result"
    },
    {
     "data": {
      "image/png": "[encoded data removed]",
      "text/plain": [
       "<Figure size 432x288 with 1 Axes>"
      ]
     },
     "metadata": {
      "needs_background": "light"
     },
     "output_type": "display_data"
    }
   ],
   "source": [
    "# Plotting a countplot of 'Age' column\n",
    "sns.countplot(df['Age'])\n",
    "plt.xlabel('Age')\n",
    "plt.ylabel('Purchases')\n",
    "plt.title('Purchases made by age')"
   ]
  },
  {
   "cell_type": "markdown",
   "metadata": {},
   "source": [
    "#### From the above count plot for age, it seems like the majority of the population ranging from the age 26-35 attended the sale."
   ]
  },
  {
   "cell_type": "markdown",
   "metadata": {},
   "source": [
    "#### Further, we could also check among the age groups, which gender was a majority by adding a hue. And as seen below, more males shopped in the sale than the females."
   ]
  },
  {
   "cell_type": "code",
   "execution_count": 8,
   "metadata": {},
   "outputs": [
    {
     "data": {
      "text/plain": [
       "Text(0.5, 1.0, 'Money spent by Male/Female')"
      ]
     },
     "execution_count": 8,
     "metadata": {},
     "output_type": "execute_result"
    },
    {
     "data": {
      "image/png": "[encoded data removed]",
      "text/plain": [
       "<Figure size 1080x360 with 1 Axes>"
      ]
     },
     "metadata": {
      "needs_background": "light"
     },
     "output_type": "display_data"
    }
   ],
   "source": [
    "# Plotting the bar plot of 'Age' column with specifying the 'hue'.\n",
    "#sns.countplot(df['Age'], hue=df['Gender'])\n",
    "plt.figure(figsize=(15,5))\n",
    "sns.barplot(x=\"Age\", y=\"Purchase\", hue=\"Gender\", data = df)\n",
    "plt.xlabel('Age')\n",
    "plt.ylabel('Purchases')\n",
    "plt.title('Money spent by Male/Female')"
   ]
  },
  {
   "cell_type": "markdown",
   "metadata": {},
   "source": [
    "#### We could check further, how many of the males from the age range 26-35 were married? \n",
    "#### For this let’s create a column called 'Combined_G_M' that represents ‘Gender’ concatenated with ‘Married_Status’ column and then use it as hue."
   ]
  },
  {
   "cell_type": "code",
   "execution_count": 9,
   "metadata": {},
   "outputs": [
    {
     "name": "stdout",
     "output_type": "stream",
     "text": [
      "['F_0' 'M_0' 'M_1' 'F_1']\n"
     ]
    }
   ],
   "source": [
    "#Creating a new column 'Combined_G_M'\n",
    "\n",
    "df['Combined_G_M'] = df.apply(lambda x:'%s_%s' % (x['Gender'],x['Marital_Status']), axis=1)\n",
    "print(df['Combined_G_M'].unique())"
   ]
  },
  {
   "cell_type": "code",
   "execution_count": 10,
   "metadata": {},
   "outputs": [
    {
     "data": {
      "text/plain": [
       "Text(0.5, 1.0, 'Transactions made by single vs married people')"
      ]
     },
     "execution_count": 10,
     "metadata": {},
     "output_type": "execute_result"
    },
    {
     "data": {
      "image/png": "[encoded data removed]",
      "text/plain": [
       "<Figure size 432x288 with 1 Axes>"
      ]
     },
     "metadata": {
      "needs_background": "light"
     },
     "output_type": "display_data"
    }
   ],
   "source": [
    "#Using the newly created column as hue to plot a count plot\n",
    "\n",
    "sns.countplot(df['Age'],hue=df['Combined_G_M'])\n",
    "plt.xlabel('Age')\n",
    "plt.ylabel('Purchases')\n",
    "plt.title('Transactions made by single vs married people')"
   ]
  },
  {
   "cell_type": "markdown",
   "metadata": {},
   "source": [
    "#### As we see above, there are no bars for married status in the 0-17 age range which makes sense. And then if we look at the 46 and above age groups, unmarried females are very less. But on the other hand, married males paying in the age range 46-55 are also comparatively more than married females. So it could also imply that though ladies do shop a lot, their spouses are possibly paying for it and hence data reflects that men shopped more. If we had more categorical data defining what kind of products were purchased by men, we could dig in this statement further. However, since in this dataset we don't know if there is a category that implies feminine products/clothes we cannot further explore this case."
   ]
  },
  {
   "cell_type": "code",
   "execution_count": 11,
   "metadata": {
    "scrolled": true
   },
   "outputs": [
    {
     "data": {
      "text/plain": [
       "Text(0.5, 1.0, 'Transactions for Product Category 2')"
      ]
     },
     "execution_count": 11,
     "metadata": {},
     "output_type": "execute_result"
    },
    {
     "data": {
      "image/png": "[encoded data removed]",
      "text/plain": [
       "<Figure size 432x288 with 1 Axes>"
      ]
     },
     "metadata": {
      "needs_background": "light"
     },
     "output_type": "display_data"
    }
   ],
   "source": [
    "# Plotting the columns 'Product_Category_2' with hue.\n",
    "sns.countplot(df['Product_Category_2'],hue=df['Combined_G_M'])\n",
    "plt.xlabel('Product Category 2')\n",
    "plt.ylabel('Purchases')\n",
    "plt.title('Transactions for Product Category 2')"
   ]
  },
  {
   "cell_type": "code",
   "execution_count": 12,
   "metadata": {},
   "outputs": [
    {
     "data": {
      "text/plain": [
       "Text(0.5, 1.0, 'Transactions for Product Category 3')"
      ]
     },
     "execution_count": 12,
     "metadata": {},
     "output_type": "execute_result"
    },
    {
     "data": {
      "image/png": "[encoded data removed]",
      "text/plain": [
       "<Figure size 432x288 with 1 Axes>"
      ]
     },
     "metadata": {
      "needs_background": "light"
     },
     "output_type": "display_data"
    }
   ],
   "source": [
    "# Plotting the columns 'Product_Category_3' with hue.\n",
    "sns.countplot(df['Product_Category_3'],hue=df['Combined_G_M'])\n",
    "plt.xlabel('Product Category 3')\n",
    "plt.ylabel('Purchases')\n",
    "plt.title('Transactions for Product Category 3')"
   ]
  },
  {
   "cell_type": "markdown",
   "metadata": {},
   "source": [
    "#### The above plots show that in both the Product Category 2 and 3, Product - 0 has been purchased the most by all people and unmarried males have the highest number of purchases in both the categories. "
   ]
  },
  {
   "cell_type": "code",
   "execution_count": 13,
   "metadata": {},
   "outputs": [
    {
     "data": {
      "text/plain": [
       "<seaborn.axisgrid.FacetGrid at 0x13946ea5630>"
      ]
     },
     "execution_count": 13,
     "metadata": {},
     "output_type": "execute_result"
    },
    {
     "data": {
      "image/png": "[encoded data removed]",
      "text/plain": [
       "<Figure size 1361.12x432 with 3 Axes>"
      ]
     },
     "metadata": {
      "needs_background": "light"
     },
     "output_type": "display_data"
    }
   ],
   "source": [
    "#Plotting a catplot to get more insights on the data.\n",
    "g = sns.catplot(x='Stay_In_Current_City_Years', hue='Age', col='City_Category', \n",
    "            order = ['0','1','2', '3', '4+'], data=df, kind=\"count\" ,height=6, aspect=1)\n",
    "g.set_axis_labels('Stay in current city in years', 'Purchases')"
   ]
  },
  {
   "cell_type": "markdown",
   "metadata": {},
   "source": [
    "#### The above plot shows us the number of years people with different age groups have stayed in a city with category A, B and C. \n",
    "#### The following observations can be made: \n",
    "#### 1) In all the city categories we can see that most purchases are made by people who have stayed for 1 year in their chosen cities.\n",
    "#### 2) Age group of 26-35 have made most purchases in all the cities.\n",
    "#### 3) City B is the most popular city for any length of stay. \n",
    "#### 4) Old residents are the people who have stayed in a city for 4+ years and new residents/visitors are categorized below 1 years. The total transactions of Old and New residents/visitors are more in City B than City A and C."
   ]
  },
  {
   "cell_type": "code",
   "execution_count": 14,
   "metadata": {},
   "outputs": [
    {
     "data": {
      "image/png": "[encoded data removed]",
      "text/plain": [
       "<Figure size 432x288 with 1 Axes>"
      ]
     },
     "metadata": {
      "needs_background": "light"
     },
     "output_type": "display_data"
    }
   ],
   "source": [
    "# Plotting a countplot for the Occupation column. \n",
    "\n",
    "occupation = df.loc[:,[\"Gender\", \"Age\", \"Occupation\"]]\n",
    "occupation = occupation.groupby([\"Occupation\", \"Gender\"]).size().reset_index(name=\"Count\")\n",
    "sns.countplot(df[\"Occupation\"], hue=df[\"Gender\"], order =df[\"Occupation\"].value_counts().index)\n",
    "plt.ylabel(\"Count\", fontsize = 15)\n",
    "plt.xlabel(\"Occupation\", fontsize = 15)\n",
    "plt.title(\"Occupation breakdown\", fontsize = 15)\n",
    "plt.show()"
   ]
  },
  {
   "cell_type": "markdown",
   "metadata": {},
   "source": [
    "#### Occupation 4 has the most people employed for both genders. There are more men working in most occupations except for occupation 9."
   ]
  },
  {
   "cell_type": "markdown",
   "metadata": {},
   "source": [
    "### Insights into the Product Categories."
   ]
  },
  {
   "cell_type": "code",
   "execution_count": 15,
   "metadata": {
    "scrolled": false
   },
   "outputs": [
    {
     "data": {
      "image/png": "[encoded data removed]",
      "text/plain": [
       "<Figure size 432x288 with 1 Axes>"
      ]
     },
     "metadata": {
      "needs_background": "light"
     },
     "output_type": "display_data"
    },
    {
     "name": "stdout",
     "output_type": "stream",
     "text": [
      "Product category 2 has the most purchases.\n"
     ]
    }
   ],
   "source": [
    "# Purchases made in each product category.\n",
    "\n",
    "products = df.loc[:,(\"Product_Category_1\",\"Product_Category_2\",\"Product_Category_3\")]\n",
    "labels = [\"Product Category 1\", \"Product Category 2\", \"Product Category 3\"]\n",
    "products.sum().plot(kind=\"bar\").set_xticklabels(labels, rotation=0)\n",
    "plt.ylabel(\"Purchases\", fontsize = 15)\n",
    "plt.title(\"Purchases made in each product category\", fontsize = 15)\n",
    "plt.show()\n",
    "print(\"Product category 2 has the most purchases.\")"
   ]
  },
  {
   "cell_type": "code",
   "execution_count": 16,
   "metadata": {},
   "outputs": [
    {
     "name": "stdout",
     "output_type": "stream",
     "text": [
      "<class 'pandas.core.frame.DataFrame'>\n",
      "RangeIndex: 537577 entries, 0 to 537576\n",
      "Data columns (total 11 columns):\n",
      "Gender                        537577 non-null object\n",
      "Age                           537577 non-null object\n",
      "Occupation                    537577 non-null int64\n",
      "City_Category                 537577 non-null object\n",
      "Stay_In_Current_City_Years    537577 non-null object\n",
      "Marital_Status                537577 non-null int64\n",
      "Product_Category_1            537577 non-null int64\n",
      "Product_Category_2            537577 non-null int32\n",
      "Product_Category_3            537577 non-null int32\n",
      "Purchase                      537577 non-null int64\n",
      "Combined_G_M                  537577 non-null object\n",
      "dtypes: int32(2), int64(4), object(5)\n",
      "memory usage: 41.0+ MB\n"
     ]
    }
   ],
   "source": [
    "df.info()"
   ]
  },
  {
   "cell_type": "markdown",
   "metadata": {},
   "source": [
    "### Hypothesis Test for Each Variable to Target Variable\n",
    "\n",
    "Interpretation\n",
    "\n",
    "The null hypothesis is that the means of the samples are equal. Rejecting the null hypothesis would imply that at least one of the means is different.\n",
    "The decision to reject the null hypothesis and accept the alternative hypothesis is based on the significance level of the test (α) and the probability of observing the effect given that the null hypothesis is true (p-value). If p-value ≤ α the null hypothesis is ruled out. We typically use a value of α=0.05, which corresponds to 95% confidence.\n"
   ]
  },
  {
   "cell_type": "markdown",
   "metadata": {},
   "source": [
    "### One-way ANOVA test using statsmodels:"
   ]
  },
  {
   "cell_type": "code",
   "execution_count": 17,
   "metadata": {},
   "outputs": [],
   "source": [
    "# Importing the necessary libaries.\n",
    "import statsmodels.api as sm\n",
    "from statsmodels.formula.api import ols"
   ]
  },
  {
   "cell_type": "code",
   "execution_count": 18,
   "metadata": {},
   "outputs": [
    {
     "name": "stdout",
     "output_type": "stream",
     "text": [
      "                            OLS Regression Results                            \n",
      "==============================================================================\n",
      "Dep. Variable:               Purchase   R-squared:                       0.009\n",
      "Model:                            OLS   Adj. R-squared:                  0.009\n",
      "Method:                 Least Squares   F-statistic:                     384.1\n",
      "Date:                Tue, 23 Jul 2019   Prob (F-statistic):               0.00\n",
      "Time:                        08:41:39   Log-Likelihood:            -5.3369e+06\n",
      "No. Observations:              537577   AIC:                         1.067e+07\n",
      "Df Residuals:                  537563   BIC:                         1.067e+07\n",
      "Df Model:                          13                                         \n",
      "Covariance Type:            nonrobust                                         \n",
      "=======================================================================================================\n",
      "                                          coef    std err          t      P>|t|      [0.025      0.975]\n",
      "-------------------------------------------------------------------------------------------------------\n",
      "Intercept                            7986.6385     47.115    169.512      0.000    7894.294    8078.983\n",
      "C(Gender)[T.M]                        690.6433     15.738     43.884      0.000     659.798     721.489\n",
      "C(Age)[T.18-25]                       303.6019     43.983      6.903      0.000     217.396     389.808\n",
      "C(Age)[T.26-35]                       410.9056     42.469      9.675      0.000     327.668     494.143\n",
      "C(Age)[T.36-45]                       433.7604     43.682      9.930      0.000     348.145     519.376\n",
      "C(Age)[T.46-50]                       293.7162     47.212      6.221      0.000     201.182     386.250\n",
      "C(Age)[T.51-55]                       608.9244     48.312     12.604      0.000     514.235     703.614\n",
      "C(Age)[T.55+]                         286.9833     53.437      5.371      0.000     182.249     391.717\n",
      "C(City_Category)[T.B]                 243.1490     16.801     14.473      0.000     210.220     276.078\n",
      "C(City_Category)[T.C]                 898.7836     18.150     49.521      0.000     863.211     934.356\n",
      "C(Stay_In_Current_City_Years)[T.1]     49.0350     21.703      2.259      0.024       6.498      91.572\n",
      "C(Stay_In_Current_City_Years)[T.2]    116.0619     24.221      4.792      0.000      68.589     163.535\n",
      "C(Stay_In_Current_City_Years)[T.3]     95.5792     24.602      3.885      0.000      47.361     143.798\n",
      "C(Stay_In_Current_City_Years)[T.4+]    40.7925     25.230      1.617      0.106      -8.657      90.242\n",
      "==============================================================================\n",
      "Omnibus:                    32356.658   Durbin-Watson:                   1.683\n",
      "Prob(Omnibus):                  0.000   Jarque-Bera (JB):            36218.358\n",
      "Skew:                           0.614   Prob(JB):                         0.00\n",
      "Kurtosis:                       2.671   Cond. No.                         25.2\n",
      "==============================================================================\n",
      "\n",
      "Warnings:\n",
      "[1] Standard Errors assume that the covariance matrix of the errors is correctly specified.\n"
     ]
    }
   ],
   "source": [
    "# Computing OLS for the Categorical Variables.\n",
    "m1 = ols('Purchase ~ C(Gender) + C(Age) + C(City_Category) + C(Stay_In_Current_City_Years) ', df).fit()\n",
    "print(m1.summary())"
   ]
  },
  {
   "cell_type": "markdown",
   "metadata": {},
   "source": [
    "#### Interpreting the table above. \n",
    "Let's pull out the really important numbers: \n",
    "F (df model, df residuals) = F (13, 537563) = F-statistic = 384.1 and\n",
    "Prob (F-statistic): 0.00\n",
    "\n",
    "As the p-value is < 0.05 we reject the null hypothesis. \n",
    "The R-squared and the Adj. R-squared is considerably low i.e. 0.009.\n",
    "Overall the model is significant, F (13, 537563) = 384.1, p = 0.00. This tells us that there is a significant difference in the group means.\n",
    "\n",
    "#### Coming from the ANOVA framework, the information we are really after in this table is the F-statistic and its corresponding p-value. This tells us if we explained a significant amount of the overall variance. We are still missing some useful information with this method, we need an ANOVA table."
   ]
  },
  {
   "cell_type": "code",
   "execution_count": 19,
   "metadata": {},
   "outputs": [
    {
     "data": {
      "text/html": [
       "<div>\n",
       "<style scoped>\n",
       "    .dataframe tbody tr th:only-of-type {\n",
       "        vertical-align: middle;\n",
       "    }\n",
       "\n",
       "    .dataframe tbody tr th {\n",
       "        vertical-align: top;\n",
       "    }\n",
       "\n",
       "    .dataframe thead th {\n",
       "        text-align: right;\n",
       "    }\n",
       "</style>\n",
       "<table border=\"1\" class=\"dataframe\">\n",
       "  <thead>\n",
       "    <tr style=\"text-align: right;\">\n",
       "      <th></th>\n",
       "      <th>sum_sq</th>\n",
       "      <th>df</th>\n",
       "      <th>F</th>\n",
       "      <th>PR(&gt;F)</th>\n",
       "    </tr>\n",
       "  </thead>\n",
       "  <tbody>\n",
       "    <tr>\n",
       "      <th>C(Gender)</th>\n",
       "      <td>4.734173e+10</td>\n",
       "      <td>1.0</td>\n",
       "      <td>1925.806065</td>\n",
       "      <td>0.000000e+00</td>\n",
       "    </tr>\n",
       "    <tr>\n",
       "      <th>C(Age)</th>\n",
       "      <td>5.650137e+09</td>\n",
       "      <td>6.0</td>\n",
       "      <td>38.306827</td>\n",
       "      <td>8.477981e-47</td>\n",
       "    </tr>\n",
       "    <tr>\n",
       "      <th>C(City_Category)</th>\n",
       "      <td>6.744958e+10</td>\n",
       "      <td>2.0</td>\n",
       "      <td>1371.884925</td>\n",
       "      <td>0.000000e+00</td>\n",
       "    </tr>\n",
       "    <tr>\n",
       "      <th>C(Stay_In_Current_City_Years)</th>\n",
       "      <td>7.416168e+08</td>\n",
       "      <td>4.0</td>\n",
       "      <td>7.542025</td>\n",
       "      <td>4.525187e-06</td>\n",
       "    </tr>\n",
       "    <tr>\n",
       "      <th>Residual</th>\n",
       "      <td>1.321481e+13</td>\n",
       "      <td>537563.0</td>\n",
       "      <td>NaN</td>\n",
       "      <td>NaN</td>\n",
       "    </tr>\n",
       "  </tbody>\n",
       "</table>\n",
       "</div>"
      ],
      "text/plain": [
       "                                     sum_sq        df            F  \\\n",
       "C(Gender)                      4.734173e+10       1.0  1925.806065   \n",
       "C(Age)                         5.650137e+09       6.0    38.306827   \n",
       "C(City_Category)               6.744958e+10       2.0  1371.884925   \n",
       "C(Stay_In_Current_City_Years)  7.416168e+08       4.0     7.542025   \n",
       "Residual                       1.321481e+13  537563.0          NaN   \n",
       "\n",
       "                                     PR(>F)  \n",
       "C(Gender)                      0.000000e+00  \n",
       "C(Age)                         8.477981e-47  \n",
       "C(City_Category)               0.000000e+00  \n",
       "C(Stay_In_Current_City_Years)  4.525187e-06  \n",
       "Residual                                NaN  "
      ]
     },
     "execution_count": 19,
     "metadata": {},
     "output_type": "execute_result"
    }
   ],
   "source": [
    "# ANOVA Table.\n",
    "aov_table = sm.stats.anova_lm(m1, typ=2)\n",
    "aov_table"
   ]
  },
  {
   "cell_type": "markdown",
   "metadata": {},
   "source": [
    "Let’s break down this ANOVA table. The rows in the table is the between groups effect which is the overall experimental effect. The sum of squares for the model (i.e sum_sq) is how much variance is explained by our model. The current model explains a significant amount of variance, the p < 0.05 for all the variables in the above table. The residual row is the unsystematic variation in the data (also called the unexplained variance; value 1.321481e+13 in the table). In this case, the unsystematic variation represents the individual differences in the Purchase and different relations to the above variables. To test between groups, we need to do some post-hoc testing where we can compare all groups against each other."
   ]
  },
  {
   "cell_type": "markdown",
   "metadata": {},
   "source": [
    "### Post-hoc Testing\n",
    "\n",
    "The overall model was significant, now to test which groups differ. There are a few different techniques that can be used like Fisher’s Least Significant Difference (LSD), Bonferroni correction, Tukey’s HSD etc. \n",
    "The technique here in consideration is the Tukey’s HSD.\n",
    "\n",
    "#### Tukey’s HSD Post-Hoc Comparison"
   ]
  },
  {
   "cell_type": "code",
   "execution_count": 20,
   "metadata": {},
   "outputs": [],
   "source": [
    "# Importing the necessary libaries.\n",
    "from statsmodels.stats.multicomp import pairwise_tukeyhsd\n",
    "from statsmodels.stats.multicomp import MultiComparison"
   ]
  },
  {
   "cell_type": "code",
   "execution_count": 21,
   "metadata": {},
   "outputs": [
    {
     "name": "stdout",
     "output_type": "stream",
     "text": [
      "Multiple Comparison of Means - Tukey HSD,FWER=0.05\n",
      "==============================================\n",
      "group1 group2 meandiff  lower    upper  reject\n",
      "----------------------------------------------\n",
      "  F      M    695.0104 664.1457 725.875  True \n",
      "----------------------------------------------\n"
     ]
    }
   ],
   "source": [
    "# Perform Tukey's test for the Gender column.\n",
    "mc = MultiComparison(df['Purchase'], df['Gender'])\n",
    "mc_results = mc.tukeyhsd()\n",
    "print(mc_results)"
   ]
  },
  {
   "cell_type": "markdown",
   "metadata": {},
   "source": [
    "The Tukey HSD post-hoc comparison test controls type I error and maintains the familywise error rate at 0.05 (FWER= 0.05 top of the table). The group1 and group2 columns are the groups being compared, the meandiff column is the difference in means of the two groups being calculated as group2 – group1, the lower/upper columns are the lower/upper boundaries of the 95% confidence interval, and the reject column states whether or not the null hypothesis should be rejected. Also If the reject column says 'True' we reject the null hypothesis and the means are NOT equal, if the reject column says 'False' we accept the null hypothesis and the means are equal. \n",
    "\n",
    "In this case the null hypothesis could be rejected."
   ]
  },
  {
   "cell_type": "code",
   "execution_count": 22,
   "metadata": {},
   "outputs": [
    {
     "name": "stdout",
     "output_type": "stream",
     "text": [
      "Multiple Comparison of Means - Tukey HSD,FWER=0.05\n",
      "=================================================\n",
      "group1 group2  meandiff   lower    upper   reject\n",
      "-------------------------------------------------\n",
      " 0-17  18-25   215.0707  85.2053  344.936   True \n",
      " 0-17  26-35   294.4621  169.3173 419.6068  True \n",
      " 0-17  36-45   381.3519  252.269  510.4348  True \n",
      " 0-17  46-50   264.7454  125.1087 404.3821  True \n",
      " 0-17  51-55   600.4897  457.7051 743.2744  True \n",
      " 0-17   55+    433.7717  275.7538 591.7896  True \n",
      "18-25  26-35   79.3914   22.7175  136.0653  True \n",
      "18-25  36-45   166.2812  101.3727 231.1897  True \n",
      "18-25  46-50   49.6747   -34.2845 133.6339 False \n",
      "18-25  51-55   385.419   296.3226 474.5155  True \n",
      "18-25   55+    218.701   106.8065 330.5955  True \n",
      "26-35  36-45   86.8898   32.0325  141.747   True \n",
      "26-35  46-50   -29.7167 -106.1715 46.7381  False \n",
      "26-35  51-55   306.0276  223.9644 388.0909  True \n",
      "26-35   55+    139.3096  32.9302  245.6891  True \n",
      "36-45  46-50  -116.6065 -199.3502 -33.8627  True \n",
      "36-45  51-55   219.1379  131.1858 307.0899  True \n",
      "36-45   55+    52.4198   -58.5656 163.4053 False \n",
      "46-50  51-55   335.7443  232.9261 438.5625  True \n",
      "46-50   55+    169.0263  45.9255  292.1271  True \n",
      "51-55   55+    -166.718 -293.3783 -40.0578  True \n",
      "-------------------------------------------------\n"
     ]
    }
   ],
   "source": [
    "# Perform Tukey's test for the Age column.\n",
    "mc1 = MultiComparison(df['Purchase'], df['Age'])\n",
    "mc1_results = mc1.tukeyhsd()\n",
    "print(mc1_results)"
   ]
  },
  {
   "cell_type": "markdown",
   "metadata": {},
   "source": [
    "Here in this comparison we could reject the null hypothesis for all the pair of groups except for the pairs of groups with age range (18-25 and 46-50 ), (26-35 and 46-55) and (36-45 and 55+). "
   ]
  },
  {
   "cell_type": "code",
   "execution_count": 23,
   "metadata": {},
   "outputs": [
    {
     "name": "stdout",
     "output_type": "stream",
     "text": [
      "Multiple Comparison of Means - Tukey HSD,FWER=0.05\n",
      "===============================================\n",
      "group1 group2 meandiff  lower    upper   reject\n",
      "-----------------------------------------------\n",
      "  A      B    240.6468 201.4538 279.8399  True \n",
      "  A      C    886.4308 844.5732 928.2885  True \n",
      "  B      C    645.784  608.1905 683.3775  True \n",
      "-----------------------------------------------\n"
     ]
    }
   ],
   "source": [
    "# Perform Tukey's test for the City_Category column.\n",
    "mc2 = MultiComparison(df['Purchase'], df['City_Category'])\n",
    "mc2_results = mc2.tukeyhsd()\n",
    "print(mc2_results)"
   ]
  },
  {
   "cell_type": "markdown",
   "metadata": {},
   "source": [
    "In this case the null hypothesis could be rejected."
   ]
  },
  {
   "cell_type": "code",
   "execution_count": 24,
   "metadata": {},
   "outputs": [
    {
     "name": "stdout",
     "output_type": "stream",
     "text": [
      "Multiple Comparison of Means - Tukey HSD,FWER=0.05\n",
      "================================================\n",
      "group1 group2 meandiff   lower    upper   reject\n",
      "------------------------------------------------\n",
      "  0      1    72.6265   13.3478  131.9051  True \n",
      "  0      2    150.3687  84.0796  216.6578  True \n",
      "  0      3    103.4465  36.2415  170.6515  True \n",
      "  0      4+   99.1315   30.1006  168.1624  True \n",
      "  1      2    77.7422   24.5286  130.9558  True \n",
      "  1      3     30.82    -23.5302 85.1703  False \n",
      "  1      4+   26.5051   -30.0874 83.0976  False \n",
      "  2      3    -46.9222 -108.8434  14.999  False \n",
      "  2      4+   -51.2372 -115.1355 12.6612  False \n",
      "  3      4+    -4.315   -69.163   60.533  False \n",
      "------------------------------------------------\n"
     ]
    }
   ],
   "source": [
    "# Perform Tukey's test for the Stay_In_Current_City_Years column.\n",
    "mc3 = MultiComparison(df['Purchase'], df['Stay_In_Current_City_Years'])\n",
    "mc3_results = mc3.tukeyhsd()\n",
    "print(mc3_results)"
   ]
  },
  {
   "cell_type": "markdown",
   "metadata": {},
   "source": [
    "Here in this comparison we could reject the null hypothesis for all the groups except for the pair of groups such as (1 and 3) , (1 and 4+) , (2 and 3) , (2 and 4+) , (3 and 4+). "
   ]
  },
  {
   "cell_type": "code",
   "execution_count": 25,
   "metadata": {},
   "outputs": [
    {
     "name": "stdout",
     "output_type": "stream",
     "text": [
      "                            OLS Regression Results                            \n",
      "==============================================================================\n",
      "Dep. Variable:               Purchase   R-squared:                       0.130\n",
      "Model:                            OLS   Adj. R-squared:                  0.130\n",
      "Method:                 Least Squares   F-statistic:                 1.607e+04\n",
      "Date:                Tue, 23 Jul 2019   Prob (F-statistic):               0.00\n",
      "Time:                        08:41:41   Log-Likelihood:            -5.3020e+06\n",
      "No. Observations:              537577   AIC:                         1.060e+07\n",
      "Df Residuals:                  537571   BIC:                         1.060e+07\n",
      "Df Model:                           5                                         \n",
      "Covariance Type:            nonrobust                                         \n",
      "======================================================================================\n",
      "                         coef    std err          t      P>|t|      [0.025      0.975]\n",
      "--------------------------------------------------------------------------------------\n",
      "Intercept           1.025e+04     17.708    578.811      0.000    1.02e+04    1.03e+04\n",
      "Occupation            12.7362      0.972     13.108      0.000      10.832      14.641\n",
      "Marital_Status        55.3193     12.896      4.290      0.000      30.043      80.596\n",
      "Product_Category_1  -318.5626      1.834   -173.663      0.000    -322.158    -314.967\n",
      "Product_Category_2     9.1322      1.024      8.915      0.000       7.124      11.140\n",
      "Product_Category_3   150.7135      1.101    136.835      0.000     148.555     152.872\n",
      "==============================================================================\n",
      "Omnibus:                    51304.204   Durbin-Watson:                   1.722\n",
      "Prob(Omnibus):                  0.000   Jarque-Bera (JB):            68789.328\n",
      "Skew:                           0.801   Prob(JB):                         0.00\n",
      "Kurtosis:                       3.710   Cond. No.                         40.1\n",
      "==============================================================================\n",
      "\n",
      "Warnings:\n",
      "[1] Standard Errors assume that the covariance matrix of the errors is correctly specified.\n"
     ]
    }
   ],
   "source": [
    "# Computing OLS for the Numerical Variables.\n",
    "m2 = ols('Purchase ~ Occupation + Marital_Status + Product_Category_1 + Product_Category_2 + Product_Category_3', df).fit()\n",
    "print(m2.summary())"
   ]
  },
  {
   "cell_type": "markdown",
   "metadata": {},
   "source": [
    "#### Interpreting the table above. \n",
    "Let's pull out the really important numbers: \n",
    "F (df model, df residuals) = F (5, 537571) = F-statistic = 1.607e+04 and \n",
    "Prob (F-statistic): 0.00\n",
    "\n",
    "As the p-value is < 0.05 we reject the null hypothesis. \n",
    "The R-squared and the Adj. R-squared is high i.e. 0.130.\n",
    "Overall the model is significant, F (5, 537571) = 1.607e+04, p = 0.00. This tells us that there is a significant difference in the group means."
   ]
  },
  {
   "cell_type": "code",
   "execution_count": 26,
   "metadata": {
    "scrolled": true
   },
   "outputs": [
    {
     "data": {
      "text/html": [
       "<div>\n",
       "<style scoped>\n",
       "    .dataframe tbody tr th:only-of-type {\n",
       "        vertical-align: middle;\n",
       "    }\n",
       "\n",
       "    .dataframe tbody tr th {\n",
       "        vertical-align: top;\n",
       "    }\n",
       "\n",
       "    .dataframe thead th {\n",
       "        text-align: right;\n",
       "    }\n",
       "</style>\n",
       "<table border=\"1\" class=\"dataframe\">\n",
       "  <thead>\n",
       "    <tr style=\"text-align: right;\">\n",
       "      <th></th>\n",
       "      <th>sum_sq</th>\n",
       "      <th>df</th>\n",
       "      <th>F</th>\n",
       "      <th>PR(&gt;F)</th>\n",
       "    </tr>\n",
       "  </thead>\n",
       "  <tbody>\n",
       "    <tr>\n",
       "      <th>Occupation</th>\n",
       "      <td>3.708629e+09</td>\n",
       "      <td>1.0</td>\n",
       "      <td>171.813521</td>\n",
       "      <td>3.013821e-39</td>\n",
       "    </tr>\n",
       "    <tr>\n",
       "      <th>Marital_Status</th>\n",
       "      <td>3.971729e+08</td>\n",
       "      <td>1.0</td>\n",
       "      <td>18.400242</td>\n",
       "      <td>1.790664e-05</td>\n",
       "    </tr>\n",
       "    <tr>\n",
       "      <th>Product_Category_1</th>\n",
       "      <td>6.509874e+11</td>\n",
       "      <td>1.0</td>\n",
       "      <td>30158.973383</td>\n",
       "      <td>0.000000e+00</td>\n",
       "    </tr>\n",
       "    <tr>\n",
       "      <th>Product_Category_2</th>\n",
       "      <td>1.715580e+09</td>\n",
       "      <td>1.0</td>\n",
       "      <td>79.479457</td>\n",
       "      <td>4.887348e-19</td>\n",
       "    </tr>\n",
       "    <tr>\n",
       "      <th>Product_Category_3</th>\n",
       "      <td>4.041601e+11</td>\n",
       "      <td>1.0</td>\n",
       "      <td>18723.944610</td>\n",
       "      <td>0.000000e+00</td>\n",
       "    </tr>\n",
       "    <tr>\n",
       "      <th>Residual</th>\n",
       "      <td>1.160358e+13</td>\n",
       "      <td>537571.0</td>\n",
       "      <td>NaN</td>\n",
       "      <td>NaN</td>\n",
       "    </tr>\n",
       "  </tbody>\n",
       "</table>\n",
       "</div>"
      ],
      "text/plain": [
       "                          sum_sq        df             F        PR(>F)\n",
       "Occupation          3.708629e+09       1.0    171.813521  3.013821e-39\n",
       "Marital_Status      3.971729e+08       1.0     18.400242  1.790664e-05\n",
       "Product_Category_1  6.509874e+11       1.0  30158.973383  0.000000e+00\n",
       "Product_Category_2  1.715580e+09       1.0     79.479457  4.887348e-19\n",
       "Product_Category_3  4.041601e+11       1.0  18723.944610  0.000000e+00\n",
       "Residual            1.160358e+13  537571.0           NaN           NaN"
      ]
     },
     "execution_count": 26,
     "metadata": {},
     "output_type": "execute_result"
    }
   ],
   "source": [
    "# ANOVA Table.\n",
    "aov_table = sm.stats.anova_lm(m2, typ=2)\n",
    "aov_table"
   ]
  },
  {
   "cell_type": "markdown",
   "metadata": {},
   "source": [
    "The current model explains a significant amount of variance, the p < 0.05 for all the variables in the above table. The residual row is the unsystematic variation in the data (also called the unexplained variance; value 1.160358e+13 in the table). In this case, the unsystematic variation represents the individual differences in the Purchase and different relations to the above variables. To test between groups, we need to do some post-hoc testing where we can compare all groups against each other.\n",
    "\n",
    "#### Tukey’s HSD Post-Hoc Comparison"
   ]
  },
  {
   "cell_type": "code",
   "execution_count": 27,
   "metadata": {
    "scrolled": false
   },
   "outputs": [
    {
     "name": "stdout",
     "output_type": "stream",
     "text": [
      " Multiple Comparison of Means - Tukey HSD,FWER=0.05 \n",
      "====================================================\n",
      "group1 group2  meandiff    lower      upper   reject\n",
      "----------------------------------------------------\n",
      "  0      1    -169.2436  -276.3503   -62.137   True \n",
      "  0      2    -161.0077  -290.6443   -31.3712  True \n",
      "  0      3     51.1306    -99.7142   201.9753 False \n",
      "  0      4      92.08      -3.135    187.295  False \n",
      "  0      5     201.9023   26.1328    377.6717  True \n",
      "  0      6     149.4319    6.2273    292.6365  True \n",
      "  0      7     315.2285   214.8817   415.5754  True \n",
      "  0      8     389.5618   -70.0403   849.1639 False \n",
      "  0      9    -472.6108  -708.8243  -236.3973  True \n",
      "  0      10   -134.1103   -306.061   37.8403  False \n",
      "  0      11    112.5205   -67.4633   292.5042 False \n",
      "  0      12    696.1057   573.7443   818.4672  True \n",
      "  0      13    237.5027    22.238    452.7674  True \n",
      "  0      14    381.5897   253.4874   509.692   True \n",
      "  0      15    679.2932   502.4325   856.1539  True \n",
      "  0      16    270.1864   138.5653   401.8075  True \n",
      "  0      17    719.4323   606.8377   832.0268  True \n",
      "  0      18    46.7247   -183.2303   276.6796 False \n",
      "  0      19   -432.6976  -638.4233  -226.9718  True \n",
      "  0      20   -305.8472  -424.9697  -186.7247  True \n",
      "  1      2      8.2359   -129.7232   146.195  False \n",
      "  1      3     220.3742   62.3197    378.4287  True \n",
      "  1      4     261.3236   155.0553   367.592   True \n",
      "  1      5     371.1459   189.1514   553.1404  True \n",
      "  1      6     318.6755   167.8954   469.4557  True \n",
      "  1      7     484.4722   373.5823   595.3621  True \n",
      "  1      8     558.8054   96.7868    1020.824  True \n",
      "  1      9    -303.3672  -544.2486   -62.4857  True \n",
      "  1      10    35.1333   -143.1757   213.4423 False \n",
      "  1      11    281.7641   95.6963    467.8319  True \n",
      "  1      12    865.3494   734.2029   996.4958  True \n",
      "  1      13    406.7463   186.3694   627.1232  True \n",
      "  1      14    550.8333   414.3149   687.3517  True \n",
      "  1      15    848.5368   665.4883  1031.5854  True \n",
      "  1      16     439.43    299.6044   579.2556  True \n",
      "  1      17    888.6759   766.5914  1010.7604  True \n",
      "  1      18    215.9683   -18.7791   450.7158 False \n",
      "  1      19   -263.4539   -474.523   -52.3848  True \n",
      "  1      20   -136.6036  -264.7334   -8.4737   True \n",
      "  2      3     212.1383   38.0262    386.2504  True \n",
      "  2      4     253.0878   124.1429   382.0326  True \n",
      "  2      5      362.91    166.8085   559.0115  True \n",
      "  2      6     310.4396   142.9032   477.9761  True \n",
      "  2      7     476.2363   343.4569   609.0157  True \n",
      "  2      8     550.5695   82.8143   1018.3248  True \n",
      "  2      9     -311.603  -563.3126   -59.8935  True \n",
      "  2      10    26.8974   -165.7886   219.5835 False \n",
      "  2      11    273.5282   73.6407    473.4157  True \n",
      "  2      12    857.1135   707.0029  1007.2241  True \n",
      "  2      13    398.5104   166.3472   630.6737  True \n",
      "  2      14    542.5974   387.7715   697.4234  True \n",
      "  2      15    840.3009   643.2208  1037.3811  True \n",
      "  2      16    431.1941   273.4443   588.944   True \n",
      "  2      17     880.44    738.1782  1022.7018  True \n",
      "  2      18    207.7324   -38.1134   453.5782 False \n",
      "  2      19   -271.6898   -495.037   -48.3426  True \n",
      "  2      20   -144.8395  -292.3219    2.6429  False \n",
      "  3      4     40.9495   -109.3013   191.2002 False \n",
      "  3      5     150.7717   -59.9516   361.495  False \n",
      "  3      6     98.3013    -86.1355   282.7382 False \n",
      "  3      7     264.098    110.5438   417.6522  True \n",
      "  3      8     338.4313   -135.64    812.5025 False \n",
      "  3      9    -523.7413  -787.0021  -260.4806  True \n",
      "  3      10   -185.2409  -392.7895   22.3077  False \n",
      "  3      11    61.3899   -152.8612   275.641  False \n",
      "  3      12    644.9752   476.2099   813.7404  True \n",
      "  3      13    186.3721   -58.267    431.0112 False \n",
      "  3      14    330.4591   157.4863   503.432   True \n",
      "  3      15    628.1626   416.5283   839.797   True \n",
      "  3      16    219.0558   43.4611    394.6506  True \n",
      "  3      17    668.3017   506.478    830.1255  True \n",
      "  3      18    -4.4059   -262.0659   253.2541 False \n",
      "  3      19   -483.8281  -720.1171  -247.5392  True \n",
      "  3      20   -356.9778  -523.4096  -190.5459  True \n",
      "  4      5     109.8222   -65.4377   285.0822 False \n",
      "  4      6     57.3519    -85.2269   199.9307 False \n",
      "  4      7     223.1485   123.6969   322.6002  True \n",
      "  4      8     297.4818  -161.9257   756.8893 False \n",
      "  4      9    -564.6908  -800.5254  -328.8562  True \n",
      "  4      10   -226.1903  -397.6201   -54.7606  True \n",
      "  4      11    20.4404   -159.0457   199.9266 False \n",
      "  4      12    604.0257   482.3974   725.6541  True \n",
      "  4      13    145.4226   -69.4262   360.2715 False \n",
      "  4      14    289.5097   162.1074   416.9119  True \n",
      "  4      15    587.2132   410.8589   763.5675  True \n",
      "  4      16    178.1064   47.1665    309.0463  True \n",
      "  4      17    627.3523   515.5548   739.1497  True \n",
      "  4      18    -45.3553   -274.921   184.2104 False \n",
      "  4      19   -524.7776  -730.0682   -319.487  True \n",
      "  4      20   -397.9272  -516.2966  -279.5578  True \n",
      "  5      6     -52.4704  -257.7938   152.8531 False \n",
      "  5      7     113.3263   -64.7738   291.4264 False \n",
      "  5      8     187.6596  -294.9213   670.2404 False \n",
      "  5      9     -674.513   -952.806  -396.2201  True \n",
      "  5      10   -336.0126  -562.3247  -109.7004  True \n",
      "  5      11    -89.3818  -321.8561   143.0925 False \n",
      "  5      12    494.2035   302.8335   685.5735  True \n",
      "  5      13    35.6004   -225.1467   296.3475 False \n",
      "  5      14    179.6874   -15.4032   374.7781 False \n",
      "  5      15    477.3909   247.3261   707.4558  True \n",
      "  5      16    68.2841   -129.1349   265.7032 False \n",
      "  5      17     517.53    332.2527   702.8074  True \n",
      "  5      18   -155.1776  -428.1784   117.8232 False \n",
      "  5      19   -634.5998  -887.5291  -381.6705  True \n",
      "  5      20   -507.7495  -697.0649   -318.434  True \n",
      "  6      7     165.7967   19.7408    311.8525  True \n",
      "  6      8     240.1299  -231.5659   711.8257 False \n",
      "  6      9    -622.0427  -881.0014  -363.0839  True \n",
      "  6      10   -283.5422  -485.6062   -81.4783  True \n",
      "  6      11    -36.9114  -245.8539   172.0311 False \n",
      "  6      12    546.6738   384.7012   708.6465  True \n",
      "  6      13    88.0708   -151.9328   328.0743 False \n",
      "  6      14    232.1578   65.8057    398.5099  True \n",
      "  6      15    529.8613   323.6029   736.1197  True \n",
      "  6      16    120.7545   -48.3222   289.8312 False \n",
      "  6      17    570.0004   415.2737   724.7271  True \n",
      "  6      18   -102.7072  -355.9701   150.5557 False \n",
      "  6      19   -582.1295  -813.6157  -350.6432  True \n",
      "  6      20   -455.2791   -614.819  -295.7392  True \n",
      "  7      8     74.3333   -386.1652   534.8318 False \n",
      "  7      9    -787.8393  -1025.7922 -549.8865  True \n",
      "  7      10   -449.3389  -623.6712  -275.0065  True \n",
      "  7      11   -202.7081  -384.9686   -20.4476  True \n",
      "  7      12    380.8772   255.1908   506.5636  True \n",
      "  7      13    -77.7259  -294.8978   139.446  False \n",
      "  7      14    66.3611    -64.9208   197.6431 False \n",
      "  7      15    364.0646   184.8875   543.2418  True \n",
      "  7      16    -45.0422  -179.7599   89.6756  False \n",
      "  7      17    404.2037   288.0044   520.403   True \n",
      "  7      18   -268.5039  -500.2451   -36.7626  True \n",
      "  7      19   -747.9261  -955.6467  -540.2056  True \n",
      "  7      20   -621.0758  -743.6112  -498.5404  True \n",
      "  8      9    -862.1726  -1369.8991 -354.4461  True \n",
      "  8      10   -523.6721  -1004.8752  -42.4691  True \n",
      "  8      11   -277.0413   -761.173   207.0904 False \n",
      "  8      12    306.5439  -159.2475   772.3354 False \n",
      "  8      13   -152.0591  -650.3846   346.2663 False \n",
      "  8      14    -7.9721   -475.3045   459.3603 False \n",
      "  8      15    289.7314   -193.248   772.7108 False \n",
      "  8      16   -119.3754  -587.6846   348.9338 False \n",
      "  8      17    329.8705  -133.4511   793.1921 False \n",
      "  8      18   -342.8371  -847.6823   162.0081 False \n",
      "  8      19   -822.2594  -1316.5391 -327.9796  True \n",
      "  8      20    -695.409  -1160.3601 -230.4579  True \n",
      "  9      10    338.5005   62.6036    614.3973  True \n",
      "  9      11    585.1313   304.1576   866.1049  True \n",
      "  9      12   1168.7165   920.6754  1416.7576  True \n",
      "  9      13    710.1135   405.3333  1014.8936  True \n",
      "  9      14    854.2005   603.2777  1105.1233  True \n",
      "  9      15    1151.904   872.9206  1430.8874  True \n",
      "  9      16    742.7972   490.0598   995.5346  True \n",
      "  9      17   1192.0431   948.6717  1435.4144  True \n",
      "  9      18    519.3355   204.0081   834.6628  True \n",
      "  9      19    39.9132   -258.2061   338.0326 False \n",
      "  9      20    166.7636   -79.6958   413.223  False \n",
      "  10     11    246.6308   17.0302    476.2313  True \n",
      "  10     12    830.2161   642.3475  1018.0846  True \n",
      "  10     13    371.613    113.4247   629.8012  True \n",
      "  10     14     515.7     324.0428   707.3572  True \n",
      "  10     15    813.4035   586.2428  1040.5642  True \n",
      "  10     16    404.2967   210.2699   598.3235  True \n",
      "  10     17    853.5426   671.8841  1035.2011  True \n",
      "  10     18    180.835    -89.7228   451.3929 False \n",
      "  10     19   -298.5872  -548.8778   -48.2967  True \n",
      "  10     20   -171.7369  -357.5122   14.0384  False \n",
      "  11     12    583.5853   388.3375   778.8331  True \n",
      "  11     13    124.9822  -138.6241   388.5885 False \n",
      "  11     14    269.0692   70.1733    467.9652  True \n",
      "  11     15    566.7727   333.4723   800.0732  True \n",
      "  11     16    157.6659   -43.5144   358.8462 False \n",
      "  11     17    606.9118   417.6318   796.1918  True \n",
      "  11     18    -65.7958  -341.5287   209.9372 False \n",
      "  11     19    -545.218  -801.0939  -289.3421  True \n",
      "  11     20   -418.3677  -611.6022  -225.1332  True \n",
      "  12     13   -458.6031  -686.7838  -230.4223  True \n",
      "  12     14    -314.516  -463.3037  -165.7284  True \n",
      "  12     15    -16.8125  -209.1853   175.5602 False \n",
      "  12     16   -425.9193  -577.7472  -274.0915  True \n",
      "  12     17    23.3265   -112.3389   158.992  False \n",
      "  12     18    -649.381  -891.4696  -407.2925  True \n",
      "  12     19   -1128.8033 -1348.0079 -909.5987  True \n",
      "  12     20   -1001.9529 -1143.0832 -860.8227  True \n",
      "  13     14    144.087    -87.223    375.3971 False \n",
      "  13     15    441.7905   180.3066   703.2745  True \n",
      "  13     16    32.6837   -200.5935   265.961  False \n",
      "  13     17    481.9296   258.8339   705.0253  True \n",
      "  13     18    -190.778  -490.7337   109.1777 False \n",
      "  13     19   -670.2002  -952.0109  -388.3896  True \n",
      "  13     20   -543.3499  -769.8103  -316.8895  True \n",
      "  14     15    297.7035   101.6292   493.7778  True \n",
      "  14     16   -111.4033  -267.8947   45.0881  False \n",
      "  14     17    337.8426   196.9774   478.7077  True \n",
      "  14     18    -334.865  -579.9053   -89.8248  True \n",
      "  14     19   -814.2873  -1036.7474 -591.8271  True \n",
      "  14     20   -687.4369  -833.5725  -541.3013  True \n",
      "  15     16   -409.1068   -607.498  -210.7156  True \n",
      "  15     17    40.1391   -146.1738   226.4519 False \n",
      "  15     18   -632.5685  -906.2731  -358.8639  True \n",
      "  15     19   -1111.9908 -1365.6796 -858.3019  True \n",
      "  15     20   -985.1404  -1175.4694 -794.8114  True \n",
      "  16     17    449.2459   305.1733   593.3185  True \n",
      "  16     18   -223.4617  -470.3598   23.4364  False \n",
      "  16     19    -702.884  -927.3889  -478.3791  True \n",
      "  16     20   -576.0336  -725.2634  -426.8038  True \n",
      "  17     18   -672.7076  -910.0092  -435.4059  True \n",
      "  17     19   -1152.1298 -1366.036  -938.2236  True \n",
      "  17     20   -1025.2795 -1158.031   -892.528  True \n",
      "  18     19   -479.4223  -772.6075   -186.237  True \n",
      "  18     20   -352.5719  -593.0396  -112.1042  True \n",
      "  19     20    126.8504   -90.5629   344.2636 False \n"
     ]
    },
    {
     "name": "stdout",
     "output_type": "stream",
     "text": [
      "----------------------------------------------------\n"
     ]
    }
   ],
   "source": [
    "# Perform Tukey's test for the Occupation column.\n",
    "mc4 = MultiComparison(df['Purchase'], df['Occupation'])\n",
    "mc4_results = mc4.tukeyhsd()\n",
    "print(mc4_results)"
   ]
  },
  {
   "cell_type": "markdown",
   "metadata": {},
   "source": [
    "Here in this comparison we can see that there are many groups of pairs for which the null hypothesis cannot be rejected. Few such pairs are (0 and 3), (0 and 4), (0 and 8), (0 and 10), (0 and 11), (0 and 18), (1 and 2), (1 and 10), (1 and 18), (2 and 10), (2 and 18), (2 and 20), (3 and 4), (3 and 6), (3 and 8), (3 and 10), (3 and 11), (3 and 13), (3 and 18), (4 and 5), (4 and 6), (4 and 8) ...... (19 and 20). Other than these, we could accept the null hypothesis for all other pairs of groups."
   ]
  },
  {
   "cell_type": "code",
   "execution_count": 28,
   "metadata": {},
   "outputs": [
    {
     "name": "stdout",
     "output_type": "stream",
     "text": [
      "Multiple Comparison of Means - Tukey HSD,FWER=0.05\n",
      "=============================================\n",
      "group1 group2 meandiff  lower   upper  reject\n",
      "---------------------------------------------\n",
      "  0      1     1.3072  -25.7776 28.392 False \n",
      "---------------------------------------------\n"
     ]
    }
   ],
   "source": [
    "# Perform Tukey's test for the Marital_Status column.\n",
    "mc5 = MultiComparison(df['Purchase'], df['Marital_Status'])\n",
    "mc5_results = mc5.tukeyhsd()\n",
    "print(mc5_results)"
   ]
  },
  {
   "cell_type": "markdown",
   "metadata": {},
   "source": [
    "In this case the null hypothesis cannot be rejected."
   ]
  },
  {
   "cell_type": "code",
   "execution_count": 29,
   "metadata": {
    "scrolled": false
   },
   "outputs": [
    {
     "name": "stdout",
     "output_type": "stream",
     "text": [
      "   Multiple Comparison of Means - Tukey HSD,FWER=0.05   \n",
      "========================================================\n",
      "group1 group2   meandiff     lower       upper    reject\n",
      "--------------------------------------------------------\n",
      "  1      2     -2352.0207  -2426.8586  -2277.1829  True \n",
      "  1      3     -3510.8598  -3591.3649  -3430.3546  True \n",
      "  1      4    -11278.8386 -11381.4998 -11176.1774  True \n",
      "  1      5     -7369.6975  -7409.3242  -7330.0707  True \n",
      "  1      6     2230.1921   2150.2388   2310.1454   True \n",
      "  1      7     2766.1287   2588.6899   2943.5674   True \n",
      "  1      8     -6110.3466  -6152.9666  -6067.7267  True \n",
      "  1      9     1930.5955   1402.1214   2459.0696   True \n",
      "  1      10    6072.2729    5920.054   6224.4917   True \n",
      "  1      11    -8924.7679  -8998.9878  -8850.5481  True \n",
      "  1      12   -12256.5059 -12429.2661 -12083.7457  True \n",
      "  1      13    -12885.082 -13031.6896 -12738.4744  True \n",
      "  1      14    -462.2495   -737.5945   -186.9045   True \n",
      "  1      15    1168.7207   1031.0619   1306.3796   True \n",
      "  1      16     1156.456   1045.0336   1267.8784   True \n",
      "  1      17    -3451.2606  -3897.6129  -3004.9082  True \n",
      "  1      18   -10632.3939  -10825.783 -10439.0047  True \n",
      "  2      3     -1158.839   -1261.091   -1056.5871  True \n",
      "  2      4     -8926.8179  -9047.2907  -8806.345   True \n",
      "  2      5     -5017.6767  -5092.1393  -4943.2142  True \n",
      "  2      6     4582.2128   4480.3947   4684.0309   True \n",
      "  2      7     5118.1494    4929.844   5306.4548   True \n",
      "  2      8     -3758.3259  -3834.4236  -3682.2283  True \n",
      "  2      9     4282.6163   3750.3952   4814.8374   True \n",
      "  2      10    8424.2936   8259.5363   8589.0509   True \n",
      "  2      11    -6572.7472  -6670.1278  -6475.3666  True \n",
      "  2      12    -9904.4851 -10088.3886  -9720.5817  True \n",
      "  2      13   -10533.0613 -10692.6488 -10373.4738  True \n",
      "  2      14    1889.7712   1607.3013   2172.2412   True \n",
      "  2      15    3520.7415   3369.3336   3672.1494   True \n",
      "  2      16    3508.4767   3380.4559   3636.4976   True \n",
      "  2      17    -1099.2398  -1550.0223  -648.4574   True \n",
      "  2      18    -8280.3731  -8483.7785  -8076.9677  True \n",
      "  3      4     -7767.9788  -7892.0517  -7643.9059  True \n",
      "  3      5     -3858.8377  -3938.994   -3778.6813  True \n",
      "  3      6     5741.0519   5634.9986   5847.1052   True \n",
      "  3      7     6276.9884   6086.3598   6467.6171   True \n",
      "  3      8     -2599.4869  -2681.1644  -2517.8093  True \n",
      "  3      9     5441.4553   4908.4078   5974.5028   True \n",
      "  3      10    9583.1327   9415.7249   9750.5404   True \n",
      "  3      11    -5413.9081  -5515.7087  -5312.1076  True \n",
      "  3      12    -8745.6461  -8931.9277  -8559.3645  True \n",
      "  3      13    -9374.2222  -9536.5446  -9211.8999  True \n",
      "  3      14    3048.6103   2764.5863   3332.6343   True \n",
      "  3      15    4679.5805   4525.2927   4833.8683   True \n",
      "  3      16    4667.3158   4535.9015   4798.7301   True \n",
      "  3      17     59.5992    -392.1587    511.3571  False \n",
      "  3      18    -7121.5341  -7327.0921  -6915.976   True \n",
      "  4      5     3909.1412   3806.7532   4011.5291   True \n",
      "  4      6     13509.0307  13385.3151  13632.7463  True \n",
      "  4      7     14044.9673  13843.9759  14245.9586  True \n",
      "  4      8      5168.492   5064.9088   5272.0751   True \n",
      "  4      9     13209.4341  12672.5935  13746.2748  True \n",
      "  4      10    17351.1115  17171.9925  17530.2304  True \n",
      "  4      11    2354.0707   2233.9807   2474.1606   True \n",
      "  4      12    -977.6673   -1174.5406   -780.794   True \n",
      "  4      13    -1606.2434  -1780.6188  -1431.868   True \n",
      "  4      14    10816.5891  10525.5086  11107.6697  True \n",
      "  4      15    12447.5593  12280.6373  12614.4814  True \n",
      "  4      16    12435.2946  12289.2536  12581.3355  True \n",
      "  4      17     7827.578   7371.3507   8283.8054   True \n",
      "  4      18     646.4448    431.2417    861.6479   True \n",
      "  5      6     9599.8895   9520.2874   9679.4917   True \n",
      "  5      7     10135.8261  9958.5453   10313.1069  True \n",
      "  5      8     1259.3508   1217.3933   1301.3083   True \n",
      "  5      9      9300.293   8771.8719   9828.7141   True \n",
      "  5      10    13441.9703  13289.9356  13594.005   True \n",
      "  5      11    -1555.0705  -1628.9119  -1481.2291  True \n",
      "  5      12    -4886.8084  -5059.4064  -4714.2105  True \n",
      "  5      13    -5515.3846  -5661.8009  -5368.9682  True \n",
      "  5      14     6907.448   6632.2047   7182.6912   True \n",
      "  5      15    8538.4182    8400.963   8675.8733   True \n",
      "  5      16    8526.1534   8414.9828   8637.3241   True \n",
      "  5      17    3918.4369   3472.1473   4364.7264   True \n",
      "  5      18    -3262.6964  -3455.9406  -3069.4522  True \n",
      "  6      7      535.9366    345.5403    726.3329   True \n",
      "  6      8     -8340.5387  -8421.6725  -8259.405   True \n",
      "  6      9     -299.5965    -832.561    233.3679  False \n",
      "  6      10    3842.0808   3674.9377   4009.2239   True \n",
      "  6      11    -11154.96  -11256.3248 -11053.5953  True \n",
      "  6      12    -14486.698 -14672.7418 -14300.6541  True \n",
      "  6      13   -15115.2741 -15277.3235 -14953.2247  True \n",
      "  6      14    -2692.4416  -2976.3097  -2408.5735  True \n",
      "  6      15    -1061.4714  -1215.4719  -907.4708   True \n",
      "  6      16    -1073.7361  -1204.8131  -942.6591   True \n",
      "  6      17    -5681.4527  -6133.1125  -5229.7928  True \n",
      "  6      18   -12862.5859 -13067.9285 -12657.2433  True \n",
      "  7      8     -8876.4753  -9054.4491  -8698.5015  True \n",
      "  7      9     -835.5331   -1391.5395  -279.5267   True \n",
      "  7      10    3306.1442   3075.8644    3536.424   True \n",
      "  7      11   -11690.8966 -11878.9572  -11502.836  True \n",
      "  7      12   -15022.6345 -15266.9792 -14778.2899  True \n",
      "  7      13   -15651.2107 -15877.8204 -15424.6009  True \n",
      "  7      14    -3228.3782  -3553.4521  -2903.3042  True \n",
      "  7      15    -1597.4079  -1818.3336  -1376.4822  True \n",
      "  7      16    -1609.6727  -1815.2771  -1404.0683  True \n",
      "  7      17    -6217.3892  -6696.0213  -5738.7572  True \n",
      "  7      18   -13398.5225 -13657.8632 -13139.1819  True \n",
      "  8      9     8040.9422   7512.2882   8569.5962   True \n",
      "  8      10    12182.6195  12029.7773  12335.4617  True \n",
      "  8      11    -2814.4213  -2889.9113  -2738.9313  True \n",
      "  8      12    -6146.1592  -6319.4689  -5972.8496  True \n",
      "  8      13    -6774.7354   -6921.99   -6627.4807  True \n",
      "  8      14    5648.0972   5372.4071   5923.7872   True \n",
      "  8      15    7279.0674   7140.7196   7417.4151   True \n",
      "  8      16    7266.8026   7154.5302    7379.075   True \n",
      "  8      17    2659.0861   2212.5208   3105.6514   True \n",
      "  8      18    -4522.0472  -4715.9273  -4328.1671  True \n",
      "  9      10    4141.6773   3593.1984   4690.1563   True \n",
      "  9      11   -10855.3635  -11387.498 -10323.2289  True \n",
      "  9      12   -14187.1014 -14741.6324 -13632.5704  True \n",
      "  9      13   -14815.6775 -15362.6258 -14268.7293  True \n",
      "  9      14    -2392.845   -2987.3814  -1798.3087  True \n",
      "  9      15    -761.8748   -1306.4926   -217.257   True \n",
      "  9      16    -774.1396   -1312.7243  -235.5548   True \n",
      "  9      17    -5381.8561  -6072.4276  -4691.2846  True \n",
      "  9      18   -12562.9894 -13124.2896 -12001.6892  True \n",
      "  10     11   -14997.0408 -15161.5183 -14832.5633  True \n",
      "  10     12   -18328.7788 -18555.4732 -18102.0843  True \n",
      "  10     13   -18957.3549  -19164.811 -18749.8987  True \n",
      "  10     14    -6534.5224  -6846.5466  -6222.4981  True \n",
      "  10     15    -4903.5521  -5104.7839  -4702.3204  True \n",
      "  10     16    -4915.8169  -5100.0972  -4731.5366  True \n",
      "  10     17    -9523.5334  -9993.4001  -9053.6668  True \n",
      "  10     18   -16704.6667 -16947.4498 -16461.8836  True \n",
      "  11     12    -3331.7379  -3515.3908  -3148.0851  True \n",
      "  11     13    -3960.3141  -4119.6127  -3801.0154  True \n",
      "  11     14    8462.5184   8180.2116   8744.8253   True \n",
      "  11     15    10093.4887  9942.3853   10244.592   True \n",
      "  11     16    10081.2239  9953.5633   10208.8845  True \n",
      "  11     17    5473.5074   5022.8271   5924.1876   True \n",
      "  11     18    -1707.6259  -1910.8047  -1504.4471  True \n",
      "  12     13    -628.5761   -851.5415   -405.6108   True \n",
      "  12     14    11794.2564  11471.7124  12116.8004  True \n",
      "  12     15    13425.2266  13208.0407  13642.4125  True \n",
      "  12     16    13412.9619  13211.3813  13614.5424  True \n",
      "  12     17    8805.2453   8328.3279   9282.1627   True \n",
      "  12     18     1624.112   1367.9497   1880.2743   True \n",
      "  13     14    12422.8325  12113.5069  12732.1581  True \n",
      "  13     15    14053.8027  13856.7814  14250.8241  True \n",
      "  13     16    14041.538   13861.8649  14221.2111  True \n",
      "  13     17    9433.8214   8965.7425   9901.9003   True \n",
      "  13     18    2252.6882   2013.3833    2491.993   True \n",
      "  14     15    1630.9702   1325.7842   1936.1563   True \n",
      "  14     16    1618.7055   1324.4207   1912.9902   True \n",
      "  14     17    -2989.0111  -3511.9059  -2466.1163  True \n",
      "  14     18   -10170.1444 -10504.1921  -9836.0966  True \n",
      "  15     16     -12.2647   -184.7136    160.1841  False \n",
      "  15     17    -4619.9813  -5085.335   -4154.6276  True \n",
      "  15     18   -11801.1146 -12035.0441 -11567.1851  True \n",
      "  16     17    -4607.7166  -5065.9949  -4149.4382  True \n",
      "  16     18   -11788.8498 -12008.3675 -11569.3322  True \n",
      "  17     18    -7181.1333  -7665.9048  -6696.3617  True \n",
      "--------------------------------------------------------\n"
     ]
    }
   ],
   "source": [
    "# Perform Tukey's test for the Product_Category_1 column.\n",
    "mc6 = MultiComparison(df['Purchase'], df['Product_Category_1'])\n",
    "mc6_results = mc6.tukeyhsd()\n",
    "print(mc6_results)"
   ]
  },
  {
   "cell_type": "markdown",
   "metadata": {},
   "source": [
    "Here in this comparison we can see that there are only three groups of pairs for which the null hypothesis cannot be rejected. The pairs are (3 and 17), (6 and 9) and (15 and 16). Other than these three we could accept the null hypothesis for all other pairs of groups."
   ]
  },
  {
   "cell_type": "code",
   "execution_count": 30,
   "metadata": {
    "scrolled": false
   },
   "outputs": [
    {
     "name": "stdout",
     "output_type": "stream",
     "text": [
      "  Multiple Comparison of Means - Tukey HSD,FWER=0.05 \n",
      "=====================================================\n",
      "group1 group2  meandiff    lower      upper    reject\n",
      "-----------------------------------------------------\n",
      "  0      2    5925.8863  5843.3439  6008.4287   True \n",
      "  0      3    3533.6783   3230.644  3836.7125   True \n",
      "  0      4    2522.4647  2414.3845  2630.5448   True \n",
      "  0      5    1338.2003  1231.3042  1445.0964   True \n",
      "  0      6    3804.7315  3673.2578  3936.2053   True \n",
      "  0      7    -818.6202  -1464.9784  -172.262   True \n",
      "  0      8     2582.182  2507.3982  2656.9659   True \n",
      "  0      9    -413.2607  -630.7908  -195.7307   True \n",
      "  0      10   7960.1604  7664.9991  8255.3217   True \n",
      "  0      11   1239.8281  1098.7954  1380.8608   True \n",
      "  0      12    -727.192  -948.0372  -506.3469   True \n",
      "  0      13    1976.41   1814.4806  2138.3394   True \n",
      "  0      14   -589.4976  -668.6162   -510.379   True \n",
      "  0      15   2662.8689  2571.2561  2754.4818   True \n",
      "  0      16   2602.8217  2515.9775  2689.6659   True \n",
      "  0      17   1720.6798  1575.6637   1865.696   True \n",
      "  0      18   1674.8438  1366.1325  1983.5552   True \n",
      "  2      3    -2392.2081 -2701.3633 -2083.0528  True \n",
      "  2      4    -3403.4217 -3527.6334 -3279.2099  True \n",
      "  2      5    -4587.686  -4710.8688 -4464.5032  True \n",
      "  2      6    -2121.1548 -2266.1809 -1976.1287  True \n",
      "  2      7    -6744.5065 -7393.757  -6095.2561  True \n",
      "  2      8    -3343.7043 -3440.3472 -3247.0614  True \n",
      "  2      9    -6339.147  -6565.1261 -6113.168   True \n",
      "  2      10    2034.274  1732.8318  2335.7163   True \n",
      "  2      11   -4686.0582 -4839.803  -4532.3135  True \n",
      "  2      12   -6653.0784 -6882.2504 -6423.9064  True \n",
      "  2      13   -3949.4763 -4122.5901 -3776.3626  True \n",
      "  2      14   -6515.3839 -6615.4189 -6415.349   True \n",
      "  2      15   -3263.0174 -3373.1997 -3152.835   True \n",
      "  2      16   -3323.0647 -3429.315  -3216.8143  True \n",
      "  2      17   -4205.2065 -4362.6133 -4047.7997  True \n",
      "  2      18   -4251.0425 -4565.7645 -3936.3205  True \n",
      "  3      4    -1011.2136 -1328.1443 -694.2829   True \n",
      "  3      5    -2195.478  -2512.0068 -1878.9491  True \n",
      "  3      6     271.0532   -54.5985   596.705   False \n",
      "  3      7    -4352.2985 -5064.0166 -3640.5804  True \n",
      "  3      8    -951.4963  -1258.6711 -644.3215   True \n",
      "  3      9    -3946.939  -4315.8334 -3578.0446  True \n",
      "  3      10   4426.4821  4007.0969  4845.8673   True \n",
      "  3      11   -2293.8502 -2623.4771 -1964.2232  True \n",
      "  3      12   -4260.8703 -4631.7292 -3890.0114  True \n",
      "  3      13   -1557.2683 -1896.3625 -1218.1741  True \n",
      "  3      14   -4123.1759 -4431.4347 -3814.9171  True \n",
      "  3      15   -870.8093  -1182.509  -559.1097   True \n",
      "  3      16   -930.8566  -1241.1881 -620.5251   True \n",
      "  3      17   -1812.9984 -2144.3493 -1481.6475  True \n",
      "  3      18   -1858.8345 -2287.8641 -1429.8048  True \n",
      "  4      5    -1184.2644 -1325.8344 -1042.6943  True \n",
      "  4      6    1282.2669  1121.3301  1443.2037   True \n",
      "  4      7    -3341.0849 -3994.0736 -2688.0961  True \n",
      "  4      8     59.7174    -59.4797   178.9144  False \n",
      "  4      9    -2935.7254 -3172.2304 -2699.2204  True \n",
      "  4      10   5437.6957  5128.2842  5747.1072   True \n",
      "  4      11   -1282.6365 -1451.4723 -1113.8008  True \n",
      "  4      12   -3249.6567 -3489.2144 -3010.099   True \n",
      "  4      13   -546.0547  -732.6999  -359.4094   True \n",
      "  4      14   -3111.9623 -3233.9256 -2989.9989  True \n",
      "  4      15    140.4043    9.9887    270.8199   True \n",
      "  4      16     80.357    -46.754    207.4681  False \n",
      "  4      17   -801.7848   -973.962  -629.6076   True \n",
      "  4      18   -847.6208  -1169.984  -525.2577   True \n",
      "  5      6    2466.5312  2306.3872  2626.6752   True \n",
      "  5      7    -2156.8205 -2809.6143 -1504.0267  True \n",
      "  5      8    1243.9817  1125.8573  1362.1061   True \n",
      "  5      9    -1751.461  -1987.4273 -1515.4948  True \n",
      "  5      10   6621.9601  6312.9601   6930.96    True \n",
      "  5      11    -98.3722  -266.4524   69.7081   False \n",
      "  5      12   -2065.3924 -2304.4182 -1826.3665  True \n",
      "  5      13    638.2097   452.2476   824.1718   True \n",
      "  5      14   -1927.6979 -2048.6132 -1806.7826  True \n",
      "  5      15   1324.6686  1195.2327  1454.1046   True \n",
      "  5      16   1264.6214  1138.5156  1390.7272   True \n",
      "  5      17    382.4795   211.0432   553.9159   True \n",
      "  5      18    336.6435   14.6754    658.6116   True \n",
      "  6      7    -4623.3517 -5280.6175 -3966.086   True \n",
      "  6      8    -1222.5495 -1363.3045 -1081.7946  True \n",
      "  6      9    -4217.9922 -4466.0621 -3969.9224  True \n",
      "  6      10   4155.4288  3837.0902  4473.7675   True \n",
      "  6      11   -2564.9034 -2749.5911 -2380.2157  True \n",
      "  6      12   -4531.9236 -4782.9055 -4280.9417  True \n",
      "  6      13   -1828.3215 -2029.4197 -1627.2234  True \n",
      "  6      14   -4394.2291 -4537.3343 -4251.124   True \n",
      "  6      15   -1141.8626 -1292.2363 -991.4889   True \n",
      "  6      16   -1201.9098 -1349.4268 -1054.3929  True \n",
      "  6      17   -2084.0517 -2271.7989 -1896.3045  True \n",
      "  6      18   -2129.8877 -2460.8288 -1798.9466  True \n",
      "  7      8    3400.8022  2752.4924   4049.112   True \n",
      "  7      9     405.3595  -274.3701   1085.089  False \n",
      "  7      10   8778.7806  8070.3787  9487.1824   True \n",
      "  7      11   2058.4483  1399.2039  2717.6927   True \n",
      "  7      12    91.4282   -589.3696   772.2259  False \n",
      "  7      13   2795.0302  2131.0015  3459.0589   True \n",
      "  7      14    229.1226  -419.7015   877.9467  False \n",
      "  7      15   3481.4891  2831.0233   4131.955   True \n",
      "  7      16   3421.4419  2771.6305  4071.2533   True \n",
      "  7      17   2539.3001   1879.192  3199.4081   True \n",
      "  7      18    2493.464  1779.3102  3207.6178   True \n",
      "  8      9    -2995.4427 -3218.7047 -2772.1807  True \n",
      "  8      10   5377.9783  5078.5676  5677.3891   True \n",
      "  8      11   -1342.3539 -1492.0764 -1192.6314  True \n",
      "  8      12   -3309.3741 -3535.8673 -3082.8808  True \n",
      "  8      13    -605.772  -775.3236  -436.2204   True \n",
      "  8      14   -3171.6796 -3265.4152 -3077.944   True \n",
      "  8      15    80.6869    -23.8096   185.1835  False \n",
      "  8      16    20.6397    -79.7023   120.9817  False \n",
      "  8      17   -861.5022  -1014.9827 -708.0216   True \n",
      "  8      18   -907.3382  -1220.115  -594.5614   True \n",
      "  9      10   8373.4211  8010.9663  8735.8759   True \n",
      "  9      11   1653.0888  1399.8231  1906.3545   True \n",
      "  9      12   -313.9313  -618.9328   -8.9299    True \n",
      "  9      13   2389.6707  2124.2005  2655.1409   True \n",
      "  9      14   -176.2369   -400.988   48.5142   False \n",
      "  9      15   3076.1297   2846.682  3305.5773   True \n",
      "  9      16   3016.0824  2788.4968   3243.668   True \n",
      "  9      17   2133.9406  1878.4352  2389.4459   True \n",
      "  9      18   2088.1045  1714.5326  2461.6765   True \n",
      "  10     11   -6720.3322 -7042.7363 -6397.9282  True \n",
      "  10     12   -8687.3524 -9051.8065 -8322.8984  True \n",
      "  10     13   -5983.7504 -6315.8276 -5651.6731  True \n",
      "  10     14   -8549.658  -8850.1807 -8249.1352  True \n",
      "  10     15   -5297.2914 -5601.3426 -4993.2403  True \n",
      "  10     16   -5357.3387 -5659.9871 -5054.6902  True \n",
      "  10     17   -6239.4805 -6563.6469 -5915.3141  True \n",
      "  10     18   -6285.3165 -6708.822  -5861.8111  True \n",
      "  11     12   -1967.0202 -2223.1389 -1710.9015  True \n",
      "  11     13    736.5819   529.1082   944.0556   True \n",
      "  11     14   -1829.3257 -1981.2598 -1677.3917  True \n",
      "  11     15   1423.0408  1264.2418  1581.8398   True \n",
      "  11     16   1362.9936  1206.8971   1519.09    True \n",
      "  11     17    480.8517   286.291    675.4125   True \n",
      "  11     18    435.0157   100.1622   769.8693   True \n",
      "  12     13    2703.602  2435.4086  2971.7955   True \n",
      "  12     14    137.6945   -90.2668   365.6557  False \n",
      "  12     15    3390.061   3157.468   3622.654   True \n",
      "  12     16   3330.0137  3099.2574   3560.77    True \n",
      "  12     17   2447.8719  2189.5383  2706.2055   True \n",
      "  12     18   2402.0359  2026.5239  2777.5479   True \n",
      "  13     14   -2565.9076 -2737.4153 -2394.3999  True \n",
      "  13     15    686.4589   508.8413   864.0766   True \n",
      "  13     16    626.4117   451.206    801.6174   True \n",
      "  13     17   -255.7301   -465.932   -45.5283   True \n",
      "  13     18   -301.5662  -645.7432   42.6109   False \n",
      "  14     15   3252.3665  3144.7252  3360.0079   True \n",
      "  14     16   3192.3193  3088.7063  3295.9323   True \n",
      "  14     17   2310.1774  2154.5387  2465.8162   True \n",
      "  14     18   2264.3414    1950.5   2578.1828   True \n",
      "  15     16    -60.0473  -173.4881   53.3935   False \n",
      "  15     17   -942.1891  -1104.5362  -779.842   True \n",
      "  15     18   -988.0251  -1305.2468 -670.8034   True \n",
      "  16     17   -882.1418  -1041.8465 -722.4372   True \n",
      "  16     18   -927.9779  -1243.8554 -612.1004   True \n",
      "  17     18    -45.836   -382.3867   290.7147  False \n",
      "-----------------------------------------------------\n"
     ]
    }
   ],
   "source": [
    "# Perform Tukey's test for the Product_Category_2 column.\n",
    "mc7 = MultiComparison(df['Purchase'], df['Product_Category_2'])\n",
    "mc7_results = mc7.tukeyhsd()\n",
    "print(mc7_results)"
   ]
  },
  {
   "cell_type": "markdown",
   "metadata": {},
   "source": [
    "Here in this comparison we can see that there are many groups of pairs for which the null hypothesis cannot be rejected. Few such pairs are (3 and 6), (4 and 8), (4 and 16), (5 and 11), (7 and 9), (7 and 12), (7 and 14) ...... (17 and 18). Other than these, we could accept the null hypothesis for all other pairs of groups."
   ]
  },
  {
   "cell_type": "code",
   "execution_count": 31,
   "metadata": {
    "scrolled": false
   },
   "outputs": [
    {
     "name": "stdout",
     "output_type": "stream",
     "text": [
      "  Multiple Comparison of Means - Tukey HSD,FWER=0.05 \n",
      "=====================================================\n",
      "group1 group2  meandiff    lower      upper    reject\n",
      "-----------------------------------------------------\n",
      "  0      3     5647.414  4990.7471   6304.081   True \n",
      "  0      4    1468.5381  1092.9336  1844.1427   True \n",
      "  0      5    3818.5992  3690.2951  3946.9032   True \n",
      "  0      6    4880.0602   4647.024  5113.0963   True \n",
      "  0      8    4719.8015  4573.0007  4866.6023   True \n",
      "  0      9    2119.8419  1967.1229  2272.5609   True \n",
      "  0      10   5213.2332  4822.3125   5604.154   True \n",
      "  0      11    3802.874  3420.2726  4185.4754   True \n",
      "  0      12    408.9995   238.4223   579.5768   True \n",
      "  0      13   4873.2496  4652.6579  5093.8414   True \n",
      "  0      14   1744.2126  1621.9555  1866.4697   True \n",
      "  0      15   4028.4802  3928.2436  4128.7167   True \n",
      "  0      16   3672.7475  3579.3288  3766.1662   True \n",
      "  0      17   3469.7174  3341.6715  3597.7634   True \n",
      "  0      18   2673.8305  2434.4521   2913.209   True \n",
      "  3      4    -4178.8759 -4934.4594 -3423.2924  True \n",
      "  3      5    -1828.8149 -2496.8639 -1160.7659  True \n",
      "  3      6    -767.3539  -1463.1509  -71.5569   True \n",
      "  3      8    -927.6126  -1599.4593 -255.7658   True \n",
      "  3      9    -3527.5721 -4200.7368 -2854.4075  True \n",
      "  3      10   -434.1808  -1197.4937  329.1321  False \n",
      "  3      11    -1844.54  -2603.626  -1085.4541  True \n",
      "  3      12   -5238.4145 -5915.854  -4560.9751  True \n",
      "  3      13   -774.1644  -1465.8929  -82.436    True \n",
      "  3      14   -3903.2015 -4570.1156 -3236.2874  True \n",
      "  3      15   -1618.9339 -2282.1646 -955.7032   True \n",
      "  3      16   -1974.6666 -2636.9011 -1312.432   True \n",
      "  3      17   -2177.6966 -2845.6961 -1509.6971  True \n",
      "  3      18   -2973.5835 -3671.5302 -2275.6368  True \n",
      "  4      5     2350.061  1954.8943  2745.2278   True \n",
      "  4      6     3411.522  2971.0669  3851.9771   True \n",
      "  4      8    3251.2633  2849.7097   3652.817   True \n",
      "  4      9     651.3038   247.549   1055.0586   True \n",
      "  4      10   3744.6951  3203.8496  4285.5406   True \n",
      "  4      11   2334.3359  1799.4726  2869.1991   True \n",
      "  4      12   -1059.5386 -1470.381  -648.6963   True \n",
      "  4      13   3404.7115   2970.712   3838.711   True \n",
      "  4      14    275.6744  -117.5706   668.9194  False \n",
      "  4      15    2559.942  2172.9766  2946.9074   True \n",
      "  4      16   2204.2093  1818.9537  2589.4649   True \n",
      "  4      17   2001.1793  1606.0963  2396.2623   True \n",
      "  4      18   1205.2924   761.4491  1649.1357   True \n",
      "  5      6     1061.461   798.0529  1324.8691   True \n",
      "  5      8     901.2023   709.8167  1092.5879   True \n",
      "  5      9    -1698.7572 -1894.7192 -1502.7953  True \n",
      "  5      10   1394.6341   984.8817  1804.3865   True \n",
      "  5      11    -15.7251  -417.5483   386.098   False \n",
      "  5      12   -3409.5996 -3619.7771 -3199.4221  True \n",
      "  5      13   1054.6505   802.1852  1307.1157   True \n",
      "  5      14   -2074.3866 -2247.6632  -1901.11   True \n",
      "  5      15    209.881    51.3713    368.3907   True \n",
      "  5      16   -145.8517  -300.1405    8.4371   False \n",
      "  5      17   -348.8817  -526.2901  -171.4733   True \n",
      "  5      18   -1144.7686 -1413.8039 -875.7333   True \n",
      "  6      8    -160.2587   -433.155   112.6376  False \n",
      "  6      9    -2760.2183 -3036.3433 -2484.0932  True \n",
      "  6      10    333.1731  -120.4137   786.7598  False \n",
      "  6      11   -1077.1862 -1523.6229 -630.7494   True \n",
      "  6      12   -4471.0606 -4757.4494 -4184.6719  True \n",
      "  6      13    -6.8106   -325.5309   311.9098  False \n",
      "  6      14   -3135.8476 -3396.3639 -2875.3314  True \n",
      "  6      15    -851.58   -1102.5168 -600.6432   True \n",
      "  6      16   -1207.3127 -1455.6048 -959.0206   True \n",
      "  6      17   -1410.3427 -1673.6252 -1147.0602  True \n",
      "  6      18   -2206.2296 -2538.2296 -1874.2297  True \n",
      "  8      9    -2599.9596 -2808.5013 -2391.4179  True \n",
      "  8      10    493.4318   77.5164    909.3471   True \n",
      "  8      11   -916.9275  -1325.0333 -508.8216   True \n",
      "  8      12   -4310.802  -4532.755  -4088.8489  True \n",
      "  8      13    153.4481  -108.9014   415.7976  False \n",
      "  8      14   -2975.5889 -3162.9744 -2788.2034  True \n",
      "  8      15   -691.3213  -865.1428  -517.4999   True \n",
      "  8      16   -1047.054  -1217.0351 -877.0729   True \n",
      "  8      17   -1250.084  -1441.2968 -1058.8713  True \n",
      "  8      18   -2045.9709 -2324.3027 -1767.6392  True \n",
      "  9      10   3093.3913  2675.3504  3511.4322   True \n",
      "  9      11   1683.0321  1272.7602   2093.304   True \n",
      "  9      12   -1710.8424 -1936.7534 -1484.9314  True \n",
      "  9      13   2753.4077  2487.7013  3019.1141   True \n",
      "  9      14   -375.6294  -567.6865  -183.5722   True \n",
      "  9      15   1908.6382  1729.7905   2087.486   True \n",
      "  9      16   1552.9056  1377.7879  1728.0233   True \n",
      "  9      17   1349.8755  1154.0825  1545.6686   True \n",
      "  9      18    553.9886   272.4905   835.4868   True \n",
      "  10     11   -1410.3592 -1956.0871 -864.6313   True \n",
      "  10     12   -4804.2337 -5229.1239 -4379.3435  True \n",
      "  10     13   -339.9836  -787.3043   107.3371  False \n",
      "  10     14   -3469.0207  -3876.92  -3061.1213  True \n",
      "  10     15   -1184.7531 -1586.6019 -782.9043   True \n",
      "  10     16   -1540.4858 -1940.6884 -1140.2832  True \n",
      "  10     17   -1743.5158 -2153.1874 -1333.8442  True \n",
      "  10     18   -2539.4027 -2996.2803 -2082.5251  True \n",
      "  11     12   -3393.8745 -3811.1232 -2976.6257  True \n",
      "  11     13   1070.3756   630.3067  1510.4445   True \n",
      "  11     14   -2058.6614 -2458.5948 -1658.728   True \n",
      "  11     15    225.6061  -168.1543   619.3666  False \n",
      "  11     16   -130.1265  -522.2068   261.9538  False \n",
      "  11     17   -333.1566  -734.8974   68.5843   False \n",
      "  11     18   -1129.0435 -1578.8234 -679.2636   True \n",
      "  12     13   4464.2501  4187.8927  4740.6074   True \n",
      "  12     14    1335.213  1128.6714  1541.7547   True \n",
      "  12     15   3619.4806  3425.1612    3813.8    True \n",
      "  12     16   3263.7479  3072.8561  3454.6398   True \n",
      "  12     17   3060.7179  2850.6978   3270.738   True \n",
      "  12     18    2264.831  1973.2582  2556.4038   True \n",
      "  13     14   -3129.037  -3378.4836 -2879.5905  True \n",
      "  13     15   -844.7695  -1084.1941 -605.3448   True \n",
      "  13     16   -1200.5021 -1437.1534 -963.8508   True \n",
      "  13     17   -1403.5322 -1655.8664 -1151.198   True \n",
      "  13     18   -2199.4191 -2522.8055 -1876.0326  True \n",
      "  14     15   2284.2676  2130.6114  2437.9238   True \n",
      "  14     16   1928.5349  1779.2369   2077.833   True \n",
      "  14     17   1725.5049  1552.4193  1898.5905   True \n",
      "  14     18    929.618    663.4134  1195.8226   True \n",
      "  15     16   -355.7327  -487.6056  -223.8597   True \n",
      "  15     17   -558.7627  -717.0636  -400.4618   True \n",
      "  15     18   -1354.6496 -1611.487  -1097.8122  True \n",
      "  16     17    -203.03   -357.1043   -48.9558   True \n",
      "  16     18   -998.9169  -1253.171  -744.6628   True \n",
      "  17     18   -795.8869  -1064.7993 -526.9745   True \n",
      "-----------------------------------------------------\n"
     ]
    }
   ],
   "source": [
    "# Perform Tukey's test for the Product_Category_3 column.\n",
    "mc8 = MultiComparison(df['Purchase'], df['Product_Category_3'])\n",
    "mc8_results = mc8.tukeyhsd()\n",
    "print(mc8_results)"
   ]
  },
  {
   "cell_type": "markdown",
   "metadata": {},
   "source": [
    "Here in this comparison we can see that there are many groups of pairs for which the null hypothesis cannot be rejected. Few such pairs are (3 and 10), (4 and 14), (5 and 11), (5 and 16), (6 and 8), (6 and 10), (6 and 13) ...... (11 and 17). Other than these, we could accept the null hypothesis for all other pairs of groups."
   ]
  },
  {
   "cell_type": "code",
   "execution_count": null,
   "metadata": {},
   "outputs": [],
   "source": []
  }
 ],
 "metadata": {
  "kernelspec": {
   "display_name": "Python 3",
   "language": "python",
   "name": "python3"
  },
  "language_info": {
   "codemirror_mode": {
    "name": "ipython",
    "version": 3
   },
   "file_extension": ".py",
   "mimetype": "text/x-python",
   "name": "python",
   "nbconvert_exporter": "python",
   "pygments_lexer": "ipython3",
   "version": "3.7.3"
  }
 },
 "nbformat": 4,
 "nbformat_minor": 1
}
